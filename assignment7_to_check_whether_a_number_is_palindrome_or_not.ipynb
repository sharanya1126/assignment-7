{
  "nbformat": 4,
  "nbformat_minor": 0,
  "metadata": {
    "colab": {
      "name": "assignment7-to check whether a number is palindrome or not",
      "provenance": []
    },
    "kernelspec": {
      "name": "python3",
      "display_name": "Python 3"
    }
  },
  "cells": [
    {
      "cell_type": "code",
      "metadata": {
        "id": "3Yw81DrbICLD",
        "colab_type": "code",
        "colab": {
          "base_uri": "https://localhost:8080/",
          "height": 50
        },
        "outputId": "d37e783c-aa15-4ad8-d84f-1246a5e3eb97"
      },
      "source": [
        "n=int(input(\"enter a number:\"))\n",
        "temp=n\n",
        "rev=0\n",
        "while(n>0):\n",
        "  dig=n%10\n",
        "  rev=rev*10+dig\n",
        "  n=n//10\n",
        "if(temp==rev):\n",
        "  print(\"the number is a palindrome\")\n",
        "else:\n",
        "  print(\"the number is not a palindrome\")"
      ],
      "execution_count": 3,
      "outputs": [
        {
          "output_type": "stream",
          "text": [
            "enter a number:12321\n",
            "the number is a palindrome\n"
          ],
          "name": "stdout"
        }
      ]
    }
  ]
}