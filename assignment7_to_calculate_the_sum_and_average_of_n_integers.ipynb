{
  "nbformat": 4,
  "nbformat_minor": 0,
  "metadata": {
    "colab": {
      "name": "assignment7-to calculate the sum and average of n integers",
      "provenance": []
    },
    "kernelspec": {
      "name": "python3",
      "display_name": "Python 3"
    }
  },
  "cells": [
    {
      "cell_type": "code",
      "metadata": {
        "id": "OliUxt8B-7ql",
        "colab_type": "code",
        "colab": {
          "base_uri": "https://localhost:8080/",
          "height": 151
        },
        "outputId": "b7bf26e1-d52e-4e7f-9b10-08ddc0eb5019"
      },
      "source": [
        "print(\"input some integers to calculate their sum and average:.input 0 to exit.\")\n",
        "\n",
        "count=0\n",
        "sum=0.0\n",
        "number=1\n",
        "while number !=0:\n",
        "    number=int(input(\"\"))\n",
        "    sum=sum+number\n",
        "    count +=1\n",
        "if count==0:\n",
        "    print(\"input some numbers:\")\n",
        "else:\n",
        "    print(\"average and sum of the above numbers are:\",sum/(count-1),sum)"
      ],
      "execution_count": 11,
      "outputs": [
        {
          "output_type": "stream",
          "text": [
            "input some integers to calculate their sum and average:.input 0 to exit.\n",
            "2\n",
            "4\n",
            "15\n",
            "19\n",
            "5\n",
            "0\n",
            "average and sum of the above numbers are: 9.0 45.0\n"
          ],
          "name": "stdout"
        }
      ]
    },
    {
      "cell_type": "code",
      "metadata": {
        "id": "ZyjBvmTeBZtS",
        "colab_type": "code",
        "colab": {}
      },
      "source": [
        ""
      ],
      "execution_count": null,
      "outputs": []
    }
  ]
}