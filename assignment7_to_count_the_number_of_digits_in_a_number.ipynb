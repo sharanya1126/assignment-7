{
  "nbformat": 4,
  "nbformat_minor": 0,
  "metadata": {
    "colab": {
      "name": "assignment7-to count the number of digits in a number",
      "provenance": []
    },
    "kernelspec": {
      "name": "python3",
      "display_name": "Python 3"
    }
  },
  "cells": [
    {
      "cell_type": "code",
      "metadata": {
        "id": "gwuB_8zsHTDU",
        "colab_type": "code",
        "colab": {
          "base_uri": "https://localhost:8080/",
          "height": 118
        },
        "outputId": "f1e9b455-6c30-4487-8f0c-3631b76eb54e"
      },
      "source": [
        "n=int(input(\"enter a number:\"))\n",
        "count=0\n",
        "while(n>0):\n",
        "  count=count+1\n",
        "  n=n//10\n",
        "  print(\"the number of digits in the number:\",count)"
      ],
      "execution_count": 1,
      "outputs": [
        {
          "output_type": "stream",
          "text": [
            "enter a number:32456\n",
            "the number of digits in the number: 1\n",
            "the number of digits in the number: 2\n",
            "the number of digits in the number: 3\n",
            "the number of digits in the number: 4\n",
            "the number of digits in the number: 5\n"
          ],
          "name": "stdout"
        }
      ]
    }
  ]
}