{
  "nbformat": 4,
  "nbformat_minor": 0,
  "metadata": {
    "colab": {
      "name": "assignment7-sum of natural numbers",
      "provenance": []
    },
    "kernelspec": {
      "name": "python3",
      "display_name": "Python 3"
    }
  },
  "cells": [
    {
      "cell_type": "code",
      "metadata": {
        "id": "oTYp1Je14tY3",
        "colab_type": "code",
        "colab": {
          "base_uri": "https://localhost:8080/",
          "height": 50
        },
        "outputId": "38603b26-0b1c-48d4-9e6c-636dfa040dd3"
      },
      "source": [
        "num=int(input(\"enter the value of n:\"))\n",
        "hold=num\n",
        "sum=0\n",
        "if num<=0:\n",
        "  print(\"enter a whole positive number:\")\n",
        "else:\n",
        "  while num>0:\n",
        "    sum=sum+num\n",
        "    num=num-1;\n",
        "  print(\"sum of first\",hold,\"natural numbers is:\",sum)"
      ],
      "execution_count": 1,
      "outputs": [
        {
          "output_type": "stream",
          "text": [
            "enter the value of n:7\n",
            "sum of first 7 natural numbers is: 28\n"
          ],
          "name": "stdout"
        }
      ]
    }
  ]
}