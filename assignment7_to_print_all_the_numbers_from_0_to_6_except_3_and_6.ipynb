{
  "nbformat": 4,
  "nbformat_minor": 0,
  "metadata": {
    "colab": {
      "name": "assignment7-to print all the numbers from 0 to 6 except 3 and 6",
      "provenance": []
    },
    "kernelspec": {
      "name": "python3",
      "display_name": "Python 3"
    }
  },
  "cells": [
    {
      "cell_type": "code",
      "metadata": {
        "id": "ON1fVaga9fE5",
        "colab_type": "code",
        "colab": {
          "base_uri": "https://localhost:8080/",
          "height": 185
        },
        "outputId": "3dffc9c3-4c97-4e80-a741-0d1c19726abb"
      },
      "source": [
        "for x in range(6):\n",
        "  if (x==3 or x==6):\n",
        "    continue\n",
        "  print(x,end=\" \")\n",
        "  print(\"\\n\")"
      ],
      "execution_count": 1,
      "outputs": [
        {
          "output_type": "stream",
          "text": [
            "0 \n",
            "\n",
            "1 \n",
            "\n",
            "2 \n",
            "\n",
            "4 \n",
            "\n",
            "5 \n",
            "\n"
          ],
          "name": "stdout"
        }
      ]
    }
  ]
}