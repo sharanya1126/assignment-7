{
  "nbformat": 4,
  "nbformat_minor": 0,
  "metadata": {
    "colab": {
      "name": "assignment7-reverse of a given number",
      "provenance": []
    },
    "kernelspec": {
      "name": "python3",
      "display_name": "Python 3"
    }
  },
  "cells": [
    {
      "cell_type": "code",
      "metadata": {
        "id": "r6HGBM6jFz7J",
        "colab_type": "code",
        "colab": {
          "base_uri": "https://localhost:8080/",
          "height": 134
        },
        "outputId": "e30db86b-d000-41cc-870c-ff9e101c7c26"
      },
      "source": [
        "n=int(input(\"enter number:\"))\n",
        "rev=0\n",
        "while(n>0):\n",
        "  dig=n%10\n",
        "  rev=rev*10+dig\n",
        "  n=n//10\n",
        "  print(\"reverse of the number is:\",rev)"
      ],
      "execution_count": 1,
      "outputs": [
        {
          "output_type": "stream",
          "text": [
            "enter number:125467\n",
            "reverse of the number is: 7\n",
            "reverse of the number is: 76\n",
            "reverse of the number is: 764\n",
            "reverse of the number is: 7645\n",
            "reverse of the number is: 76452\n",
            "reverse of the number is: 764521\n"
          ],
          "name": "stdout"
        }
      ]
    }
  ]
}