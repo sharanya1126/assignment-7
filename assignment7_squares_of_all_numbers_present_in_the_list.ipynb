{
  "nbformat": 4,
  "nbformat_minor": 0,
  "metadata": {
    "colab": {
      "name": "assignment7-squares of all numbers present in the list",
      "provenance": []
    },
    "kernelspec": {
      "name": "python3",
      "display_name": "Python 3"
    }
  },
  "cells": [
    {
      "cell_type": "code",
      "metadata": {
        "id": "Bc_w92tU-Ga3",
        "colab_type": "code",
        "colab": {
          "base_uri": "https://localhost:8080/",
          "height": 34
        },
        "outputId": "44d39366-a22a-45bf-e9b7-25b5833b060b"
      },
      "source": [
        "def printvalue():\n",
        "  l=list()\n",
        "  for i in range(1,20):\n",
        "    l.append(i**2)\n",
        "  print(l)\n",
        "printvalue()"
      ],
      "execution_count": 2,
      "outputs": [
        {
          "output_type": "stream",
          "text": [
            "[1, 4, 9, 16, 25, 36, 49, 64, 81, 100, 121, 144, 169, 196, 225, 256, 289, 324, 361]\n"
          ],
          "name": "stdout"
        }
      ]
    }
  ]
}