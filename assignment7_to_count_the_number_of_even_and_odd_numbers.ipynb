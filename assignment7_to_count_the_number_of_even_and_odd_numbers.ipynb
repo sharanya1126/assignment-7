{
  "nbformat": 4,
  "nbformat_minor": 0,
  "metadata": {
    "colab": {
      "name": "assignment7-to count the number of even and odd numbers",
      "provenance": []
    },
    "kernelspec": {
      "name": "python3",
      "display_name": "Python 3"
    }
  },
  "cells": [
    {
      "cell_type": "code",
      "metadata": {
        "id": "ea_lfTOQ7N_m",
        "colab_type": "code",
        "colab": {
          "base_uri": "https://localhost:8080/",
          "height": 50
        },
        "outputId": "8dcb12ee-dcfb-43af-885d-8be7a5ce8bf4"
      },
      "source": [
        "list1=[5,20,4,67,32,4,9,17]\n",
        "even_count=0\n",
        "odd_count=0\n",
        "for num in list1:\n",
        "  if num%2==0:\n",
        "    even_count+=1\n",
        "  else:\n",
        "    odd_count+=1\n",
        "print(\"even numbers in the list:\",even_count)\n",
        "print(\"odd numbers in the list:\",odd_count)"
      ],
      "execution_count": 1,
      "outputs": [
        {
          "output_type": "stream",
          "text": [
            "even numbers in the list: 4\n",
            "odd numbers in the list: 4\n"
          ],
          "name": "stdout"
        }
      ]
    }
  ]
}