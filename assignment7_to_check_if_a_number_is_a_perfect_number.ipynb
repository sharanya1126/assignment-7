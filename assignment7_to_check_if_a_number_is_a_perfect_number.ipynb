{
  "nbformat": 4,
  "nbformat_minor": 0,
  "metadata": {
    "colab": {
      "name": "assignment7-to check if a number is a perfect number",
      "provenance": []
    },
    "kernelspec": {
      "name": "python3",
      "display_name": "Python 3"
    }
  },
  "cells": [
    {
      "cell_type": "code",
      "metadata": {
        "id": "VZe9_Gz7LJLc",
        "colab_type": "code",
        "colab": {
          "base_uri": "https://localhost:8080/",
          "height": 50
        },
        "outputId": "b3566d2c-fa05-43c5-a9f5-972f8fc6f774"
      },
      "source": [
        "n=int(input(\"enter a number:\"))\n",
        "sum1=0\n",
        "for i in range(1,n):\n",
        "    if(n%i==0):\n",
        "        sum1=sum1+i\n",
        "if(sum1==n):\n",
        "    print(\"the number is a perfect number\")\n",
        "else:\n",
        "    print(\"the number is not a perfect number\")"
      ],
      "execution_count": 2,
      "outputs": [
        {
          "output_type": "stream",
          "text": [
            "enter a number:28\n",
            "the number is a perfect number\n"
          ],
          "name": "stdout"
        }
      ]
    }
  ]
}